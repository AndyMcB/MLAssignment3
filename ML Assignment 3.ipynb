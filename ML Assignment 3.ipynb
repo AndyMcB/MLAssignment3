{
 "cells": [
  {
   "cell_type": "code",
   "execution_count": 1,
   "metadata": {
    "collapsed": true
   },
   "outputs": [],
   "source": [
    "## Declarations"
   ]
  },
  {
   "cell_type": "code",
   "execution_count": 462,
   "metadata": {
    "collapsed": true
   },
   "outputs": [],
   "source": [
    "from tkinter import *\n",
    "from tkinter import filedialog\n",
    "import pandas as pd\n",
    "import numpy as np\n",
    "import random\n",
    "from pandas import read_csv\n",
    "\n",
    "import json"
   ]
  },
  {
   "cell_type": "code",
   "execution_count": null,
   "metadata": {
    "collapsed": true
   },
   "outputs": [],
   "source": []
  },
  {
   "cell_type": "code",
   "execution_count": null,
   "metadata": {
    "collapsed": true
   },
   "outputs": [],
   "source": []
  },
  {
   "cell_type": "markdown",
   "metadata": {
    "collapsed": true
   },
   "source": [
    "## Functions"
   ]
  },
  {
   "cell_type": "code",
   "execution_count": 463,
   "metadata": {
    "collapsed": false
   },
   "outputs": [
    {
     "ename": "SyntaxError",
     "evalue": "'return' outside function (<ipython-input-463-0f1802fb27e5>, line 17)",
     "output_type": "error",
     "traceback": [
      "\u001b[0;36m  File \u001b[0;32m\"<ipython-input-463-0f1802fb27e5>\"\u001b[0;36m, line \u001b[0;32m17\u001b[0m\n\u001b[0;31m    return feats_norm, labels\u001b[0m\n\u001b[0m                             ^\u001b[0m\n\u001b[0;31mSyntaxError\u001b[0m\u001b[0;31m:\u001b[0m 'return' outside function\n"
     ]
    }
   ],
   "source": [
    "### CATH\n",
    "\n",
    "def scale_and_encode(df):\n",
    "\n",
    "    # Get Features\n",
    "    # if features are continuous - revisit\n",
    "    feats_norm = df.drop(df.columns[[-1]], axis=1).apply(lambda x: (x - np.mean(x)) / (np.max(x) - np.min(x)))\n",
    "\n",
    "    # Get encoded Labels\n",
    "    labels = pd.get_dummies(df[df.columns[-1:]])\n",
    "\n",
    "    # Recombine feats & labels for now\n",
    "#     combine_data = pd.concat([feats_norm, labels], axis=1)\n",
    "    \n",
    "#     return combine_data, len(df.columns)\n",
    "\n",
    "return feats_norm, labels"
   ]
  },
  {
   "cell_type": "code",
   "execution_count": 505,
   "metadata": {
    "collapsed": false
   },
   "outputs": [],
   "source": [
    "###Andrew\n",
    "\n",
    "def load_file(filename, names):\n",
    "    \"\"\" Loads a csv into a dataframe\"\"\"\n",
    "    \n",
    "    print(filename)\n",
    "    data = read_csv(filename, names=names) \n",
    "    return data\n",
    "\n",
    "\n",
    "def train_test_split(data, train_frac=0.666):\n",
    "    \"\"\" Takes a dataset and splits it into a training and test set with measures to ensure even distribution\n",
    "    \n",
    "    Keyword Arguments:\n",
    "    data -- pandas dataframe of data to be split\n",
    "    train_frac -- franction of the data to be used for training, the rest will be used for test\n",
    "    \n",
    "    N.B: The feature labes must be the last column in the dataset\"\"\"\n",
    "    \n",
    "    labels = data[data.columns[-1]] # get last column in dataframe which will contain labels\n",
    "    num_labels = len(labels.unique())\n",
    "    split_threshold = 1/num_labels\n",
    "    \n",
    "    train = data.sample(frac=train_frac, random_state=np.random.RandomState())\n",
    "    test = data.drop(train.index)\n",
    "\n",
    "    unique_labels = labels.unique()\n",
    "  \n",
    "    label_splits_train = [sum(train[train.columns[-1]] == x) for x in unique_labels]\n",
    "    label_splits_test = [sum(test[test.columns[-1]] == x) for x in unique_labels]   \n",
    "    \n",
    "    split_vals_train = [x/len(train) for x in label_splits_train]\n",
    "    split_vals_test = [x/len(test) for x in label_splits_test]\n",
    "    \n",
    "    is_even_split_train = [(split_val < (split_threshold + 0.1)) & (split_val > (split_threshold - 0.1))\n",
    "                           for split_val in split_vals_train] # Ensure a fair split \n",
    "    is_even_split_test = [(split_val < (split_threshold + 0.1)) & (split_val > (split_threshold - 0.1))\n",
    "                           for split_val in split_vals_test]\n",
    "    \n",
    "    if not is_even_split_train and not is_even_split_test:\n",
    "        return train_test_split(data, train_frac)\n",
    "    else:\n",
    "        return train, test\n",
    "    \n",
    "    #split_val: decimal representation of how much one type makes up of the while data set\n",
    "    #split_threshold: how much each of the labels should represent in the data set\n",
    "    \n",
    "    \n",
    "def rand_train_test_split(data, train_frac=0.666):\n",
    "    \"\"\" Takes a dataset and splits it into a training and test set\n",
    "    \n",
    "    Keyword Arguments:\n",
    "    data -- pandas dataframe of data to be split\n",
    "    train_frac -- franction of the data to be used for training, the rest will be used for test\n",
    "    \n",
    "    N.B: The feature labes must be the last column in the dataset\"\"\"\n",
    "    \n",
    "    labels = data[data.columns[-1]] # get last column in dataframe which will contain labels\n",
    "    \n",
    "    sample_size = int(len(data)*train_frac)\n",
    "    \n",
    "    rows = np.random.choice(data.index.values, sample_size)\n",
    "    train = data.ix[rows]\n",
    "    test = data.drop(train.index)\n",
    "    \n",
    "    return train, test\n",
    "\n",
    "\n",
    "def n_random_split(n, data):\n",
    "    \"\"\" Takes a pandas dataframe and returns n amount of random splits of training and test data in a dict\n",
    "    \n",
    "    Keyword Arguments:\n",
    "    n -- number of training/test sets to return\n",
    "    data -- dataframe to split \"\"\"\n",
    "    \n",
    "    d = {}\n",
    "    for i in range(n):\n",
    "        train, test = train_test_split(data)\n",
    "        d[i] = [train, test]\n",
    "        \n",
    "    return d\n",
    "        \n",
    "    "
   ]
  },
  {
   "cell_type": "code",
   "execution_count": 506,
   "metadata": {
    "collapsed": true
   },
   "outputs": [],
   "source": [
    "#Header interferes with names - investigate later\n",
    "headerFlag = None\n",
    "delimFlag = ','\n",
    "namesFlag = ['att1', 'att2', 'att3', 'att4', 'OwlLabel']\n",
    "# body-length, wing-length, body-width, wing-width, type.\n",
    "\n",
    "labelColumn = -1"
   ]
  },
  {
   "cell_type": "markdown",
   "metadata": {},
   "source": [
    "# Perceptron"
   ]
  },
  {
   "cell_type": "code",
   "execution_count": 507,
   "metadata": {
    "collapsed": false
   },
   "outputs": [],
   "source": [
    "def fit(data):\n",
    "    print('')\n",
    "\n",
    "    \n",
    "def predict():\n",
    "    print()\n",
    "    "
   ]
  },
  {
   "cell_type": "code",
   "execution_count": 508,
   "metadata": {
    "collapsed": true
   },
   "outputs": [],
   "source": [
    "## Main"
   ]
  },
  {
   "cell_type": "code",
   "execution_count": 509,
   "metadata": {
    "collapsed": false,
    "scrolled": true
   },
   "outputs": [
    {
     "name": "stdout",
     "output_type": "stream",
     "text": [
      "C:/Users/AMCBR/MyStuff/College Notes & Work/Year 4/Machine Learning & Data Mining/Assignment 3/owls15.csv\n",
      "135\n",
      "89\n"
     ]
    }
   ],
   "source": [
    "root = Tk()\n",
    "root.withdraw()\n",
    "\n",
    "filename = filedialog.askopenfilename(filetypes=((\"CSV\", \"*.csv\")\n",
    "                                                     , (\"All files\", \"*.*\")))\n",
    "names=[\"body-length\", \"wing-length\", \"body-width\", \"wing-width\", \"type\"]\n",
    "data = load_file(filename, names)\n",
    "\n",
    "\n",
    "############Test Data#################\n",
    "\n",
    "train, test = rand_train_test_split(data, 0.666)\n",
    "d = n_random_split(10, data)\n",
    "##############################################\n",
    "\n",
    "\n",
    "\n"
   ]
  },
  {
   "cell_type": "code",
   "execution_count": 513,
   "metadata": {
    "collapsed": false
   },
   "outputs": [
    {
     "data": {
      "text/plain": [
       "65"
      ]
     },
     "execution_count": 513,
     "metadata": {},
     "output_type": "execute_result"
    }
   ],
   "source": [
    "len(test)"
   ]
  },
  {
   "cell_type": "code",
   "execution_count": 502,
   "metadata": {
    "collapsed": false,
    "scrolled": true
   },
   "outputs": [
    {
     "name": "stdout",
     "output_type": "stream",
     "text": [
      "0\n",
      "90\n",
      "     body-length  wing-length  body-width  wing-width          type\n",
      "20           3.7          5.4         1.5         0.2  LongEaredOwl\n",
      "94           2.8          5.7         4.1         1.3       BarnOwl\n",
      "34           4.0          5.8         1.2         0.2  LongEaredOwl\n",
      "3            3.6          5.0         1.4         0.2  LongEaredOwl\n",
      "123          2.9          6.0         4.5         1.5       BarnOwl\n",
      "--------------------------------------------------------\n",
      "45\n",
      "__________________________________________________________\n",
      "\n",
      "\n",
      "1\n",
      "90\n",
      "     body-length  wing-length  body-width  wing-width      type\n",
      "94           2.8          5.7         4.1         1.3   BarnOwl\n",
      "126          3.2          6.4         4.5         1.5   BarnOwl\n",
      "117          2.0          5.0         3.5         1.0   BarnOwl\n",
      "124          2.7          5.2         3.9         1.4   BarnOwl\n",
      "81           3.0          6.5         5.2         2.0  SnowyOwl\n",
      "--------------------------------------------------------\n",
      "45\n",
      "__________________________________________________________\n",
      "\n",
      "\n",
      "2\n",
      "90\n",
      "     body-length  wing-length  body-width  wing-width      type\n",
      "78           2.5          5.7         5.0         2.0  SnowyOwl\n",
      "102          2.8          6.1         4.7         1.2   BarnOwl\n",
      "108          2.6          5.8         4.0         1.2   BarnOwl\n",
      "120          2.3          6.3         4.4         1.3   BarnOwl\n",
      "71           2.9          6.3         5.6         1.8  SnowyOwl\n",
      "--------------------------------------------------------\n",
      "45\n",
      "__________________________________________________________\n",
      "\n",
      "\n",
      "3\n",
      "90\n",
      "     body-length  wing-length  body-width  wing-width          type\n",
      "39           3.2          4.6         1.4         0.2  LongEaredOwl\n",
      "117          2.0          5.0         3.5         1.0       BarnOwl\n",
      "132          2.9          6.6         4.6         1.3       BarnOwl\n",
      "124          2.7          5.2         3.9         1.4       BarnOwl\n",
      "49           3.0          6.1         4.9         1.8      SnowyOwl\n",
      "--------------------------------------------------------\n",
      "45\n",
      "__________________________________________________________\n",
      "\n",
      "\n",
      "4\n",
      "90\n",
      "    body-length  wing-length  body-width  wing-width          type\n",
      "89          2.7          6.4         5.3         1.9      SnowyOwl\n",
      "18          3.0          4.8         1.4         0.3  LongEaredOwl\n",
      "88          3.0          6.5         5.8         2.2      SnowyOwl\n",
      "74          2.5          6.7         5.8         1.8      SnowyOwl\n",
      "59          3.1          6.9         5.1         2.3      SnowyOwl\n",
      "--------------------------------------------------------\n",
      "45\n",
      "__________________________________________________________\n",
      "\n",
      "\n",
      "5\n",
      "90\n",
      "    body-length  wing-length  body-width  wing-width          type\n",
      "63          3.0          7.6         6.6         2.1      SnowyOwl\n",
      "29          3.5          5.0         1.3         0.3  LongEaredOwl\n",
      "47          2.8          6.2         4.8         1.8      SnowyOwl\n",
      "44          2.3          4.5         1.3         0.3  LongEaredOwl\n",
      "91          3.0          5.9         4.2         1.5       BarnOwl\n",
      "--------------------------------------------------------\n",
      "45\n",
      "__________________________________________________________\n",
      "\n",
      "\n",
      "6\n",
      "90\n",
      "     body-length  wing-length  body-width  wing-width          type\n",
      "88           3.0          6.5         5.8         2.2      SnowyOwl\n",
      "23           3.2          4.7         1.3         0.2  LongEaredOwl\n",
      "5            3.0          4.9         1.4         0.2  LongEaredOwl\n",
      "40           3.5          5.5         1.3         0.2  LongEaredOwl\n",
      "112          3.4          6.0         4.5         1.6       BarnOwl\n",
      "--------------------------------------------------------\n",
      "45\n",
      "__________________________________________________________\n",
      "\n",
      "\n",
      "7\n",
      "90\n",
      "    body-length  wing-length  body-width  wing-width          type\n",
      "32          3.1          4.6         1.5         0.2  LongEaredOwl\n",
      "29          3.5          5.0         1.3         0.3  LongEaredOwl\n",
      "59          3.1          6.9         5.1         2.3      SnowyOwl\n",
      "37          3.2          4.4         1.3         0.2  LongEaredOwl\n",
      "7           3.4          4.8         1.6         0.2  LongEaredOwl\n",
      "--------------------------------------------------------\n",
      "45\n",
      "__________________________________________________________\n",
      "\n",
      "\n",
      "8\n",
      "90\n",
      "     body-length  wing-length  body-width  wing-width          type\n",
      "128          2.9          5.6         3.6         1.3       BarnOwl\n",
      "17           3.8          5.1         1.9         0.4  LongEaredOwl\n",
      "59           3.1          6.9         5.1         2.3      SnowyOwl\n",
      "29           3.5          5.0         1.3         0.3  LongEaredOwl\n",
      "44           2.3          4.5         1.3         0.3  LongEaredOwl\n",
      "--------------------------------------------------------\n",
      "45\n",
      "__________________________________________________________\n",
      "\n",
      "\n",
      "9\n",
      "90\n",
      "     body-length  wing-length  body-width  wing-width      type\n",
      "53           2.5          4.9         4.5         1.7  SnowyOwl\n",
      "84           2.8          7.7         6.7         2.0  SnowyOwl\n",
      "48           2.5          6.3         5.0         1.9  SnowyOwl\n",
      "83           2.8          7.4         6.1         1.9  SnowyOwl\n",
      "130          3.3          6.3         4.7         1.6   BarnOwl\n",
      "--------------------------------------------------------\n",
      "45\n",
      "__________________________________________________________\n",
      "\n",
      "\n"
     ]
    }
   ],
   "source": [
    "for key, val in d.items():\n",
    "    print(key)\n",
    "    print(len(val[0]))\n",
    "    print(val[0][:5])\n",
    "    print('--------------------------------------------------------')\n",
    "    print(len(val[1]))\n",
    "    print('__________________________________________________________\\n\\n')"
   ]
  },
  {
   "cell_type": "raw",
   "metadata": {
    "collapsed": true
   },
   "source": []
  },
  {
   "cell_type": "code",
   "execution_count": null,
   "metadata": {
    "collapsed": true
   },
   "outputs": [],
   "source": []
  }
 ],
 "metadata": {
  "anaconda-cloud": {},
  "kernelspec": {
   "display_name": "Python [conda root]",
   "language": "python",
   "name": "conda-root-py"
  },
  "language_info": {
   "codemirror_mode": {
    "name": "ipython",
    "version": 3
   },
   "file_extension": ".py",
   "mimetype": "text/x-python",
   "name": "python",
   "nbconvert_exporter": "python",
   "pygments_lexer": "ipython3",
   "version": "3.5.2"
  }
 },
 "nbformat": 4,
 "nbformat_minor": 1
}
