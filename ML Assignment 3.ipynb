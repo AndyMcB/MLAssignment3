{
 "cells": [
  {
   "cell_type": "code",
   "execution_count": 1,
   "metadata": {
    "collapsed": true
   },
   "outputs": [],
   "source": [
    "## Declarations"
   ]
  },
  {
   "cell_type": "code",
   "execution_count": 62,
   "metadata": {
    "collapsed": true
   },
   "outputs": [],
   "source": [
    "from tkinter import *\n",
    "from tkinter import filedialog\n",
    "import pandas as pd\n",
    "import numpy as np\n",
    "from pandas import read_csv"
   ]
  },
  {
   "cell_type": "code",
   "execution_count": 63,
   "metadata": {
    "collapsed": true
   },
   "outputs": [],
   "source": [
    "## Functions"
   ]
  },
  {
   "cell_type": "code",
   "execution_count": 318,
   "metadata": {
    "collapsed": false
   },
   "outputs": [],
   "source": [
    "def load_file(filename, names):\n",
    "    print(filename)\n",
    "    data = read_csv(filename, names=names) \n",
    "    return data\n",
    "\n",
    "def train_test_split(data, train_frac=0.666):\n",
    "    \n",
    "    labels = data[data.columns[-1]] # get last column in dataframe which will contain labels\n",
    "    num_labels = len(labels.unique())\n",
    "    split_threshold = 1/num_labels\n",
    "    \n",
    "    train = data.sample(frac=train_frac, random_state=np.random.RandomState())\n",
    "    test = data.drop(train.index)\n",
    "\n",
    "    unique_labels = labels.unique()\n",
    "  \n",
    "    label_splits_train = [sum(train[train.columns[-1]] == x) for x in unique_labels]\n",
    "    label_splits_test = [sum(test[test.columns[-1]] == x) for x in unique_labels]   \n",
    "    \n",
    "    split_vals_train = [x/len(train) for x in label_splits_train]\n",
    "    split_vals_test = [x/len(test) for x in label_splits_test]\n",
    "    \n",
    "\n",
    "    is_even_split_train = [(split_val < (split_threshold + 0.1)) & (split_val > (split_threshold - 0.1))\n",
    "                           for split_val in split_vals_train] # Ensure a fair split \n",
    "    is_even_split_test = [(split_val < (split_threshold + 0.1)) & (split_val > (split_threshold - 0.1))\n",
    "                           for split_val in split_vals_test]\n",
    "    \n",
    "    print('label splits train: {}'.format(label_splits_train))\n",
    "    print('label splits test: {}'.format(label_splits_test))    \n",
    "    print('split vals train: {}'.format(split_vals_train))\n",
    "    print('split vals test: {}'.format(split_vals_test))\n",
    "    print('split threshold: {}'.format(split_threshold))\n",
    "    print('even split train: {}'.format(is_even_split_train))\n",
    "    print('even split test: {}'.format(is_even_split_test))\n",
    "    \n",
    "    if not is_even_split_train and not is_even_split_test:\n",
    "        return train_test_split(data, train_frac)\n",
    "    else:\n",
    "        return train, test\n",
    "    \n",
    "    #split_val: decimal representation of how much one type makes up of the while data set\n",
    "    #split_threshold: how much each of the labels should represent in the data set"
   ]
  },
  {
   "cell_type": "markdown",
   "metadata": {},
   "source": [
    "# Perceptron"
   ]
  },
  {
   "cell_type": "code",
   "execution_count": 319,
   "metadata": {
    "collapsed": false
   },
   "outputs": [],
   "source": [
    "def fit(data):\n",
    "    print('')\n",
    "\n",
    "    \n",
    "def predict():\n",
    "    print()\n",
    "    "
   ]
  },
  {
   "cell_type": "code",
   "execution_count": 320,
   "metadata": {
    "collapsed": true
   },
   "outputs": [],
   "source": [
    "## Main"
   ]
  },
  {
   "cell_type": "code",
   "execution_count": 321,
   "metadata": {
    "collapsed": false,
    "scrolled": false
   },
   "outputs": [
    {
     "name": "stdout",
     "output_type": "stream",
     "text": [
      "C:/Users/AMCBR/MyStuff/College Notes & Work/Year 4/Machine Learning & Data Mining/Assignment 3/owls15.csv\n",
      "label splits train: [31, 26, 33]\n",
      "label splits test: [14, 19, 12]\n",
      "split vals train: [0.34444444444444444, 0.28888888888888886, 0.36666666666666664]\n",
      "split vals test: [0.31111111111111112, 0.42222222222222222, 0.26666666666666666]\n",
      "split threshold: 0.3333333333333333\n",
      "even split train: [True, True, True]\n",
      "even split test: [True, True, True]\n"
     ]
    }
   ],
   "source": [
    "root = Tk()\n",
    "root.withdraw()\n",
    "\n",
    "filename = filedialog.askopenfilename(filetypes=((\"CSV\", \"*.csv\")\n",
    "                                                     , (\"All files\", \"*.*\")))\n",
    "names=[\"body-length\", \"wing-length\", \"body-width\", \"wing-width\", \"type\"]\n",
    "data = load_file(filename, names)\n",
    "\n",
    "\n",
    "############Test Binary Data#################\n",
    "\n",
    "binarydata = data[:90]\n",
    "#print(binarydata)\n",
    "\n",
    "train, test = train_test_split(  , 0.666)\n",
    "#print(train[:15])\n",
    "#print(test[:15])\n",
    "\n",
    "##############################################\n",
    "\n",
    "\n",
    "\n"
   ]
  },
  {
   "cell_type": "code",
   "execution_count": null,
   "metadata": {
    "collapsed": true
   },
   "outputs": [],
   "source": []
  },
  {
   "cell_type": "code",
   "execution_count": null,
   "metadata": {
    "collapsed": true
   },
   "outputs": [],
   "source": []
  },
  {
   "cell_type": "code",
   "execution_count": null,
   "metadata": {
    "collapsed": true
   },
   "outputs": [],
   "source": []
  }
 ],
 "metadata": {
  "anaconda-cloud": {},
  "kernelspec": {
   "display_name": "Python [conda root]",
   "language": "python",
   "name": "conda-root-py"
  },
  "language_info": {
   "codemirror_mode": {
    "name": "ipython",
    "version": 3
   },
   "file_extension": ".py",
   "mimetype": "text/x-python",
   "name": "python",
   "nbconvert_exporter": "python",
   "pygments_lexer": "ipython3",
   "version": "3.5.2"
  }
 },
 "nbformat": 4,
 "nbformat_minor": 1
}
