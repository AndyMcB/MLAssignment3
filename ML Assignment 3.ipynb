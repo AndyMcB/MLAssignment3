{
 "cells": [
  {
   "cell_type": "code",
   "execution_count": 1,
   "metadata": {
    "collapsed": true
   },
   "outputs": [],
   "source": [
    "## Declarations"
   ]
  },
  {
   "cell_type": "code",
   "execution_count": 2,
   "metadata": {
    "collapsed": true
   },
   "outputs": [],
   "source": [
    "from tkinter import *\n",
    "from tkinter import filedialog\n",
    "import pandas as pd\n",
    "import numpy as np\n",
    "from pandas import read_csv"
   ]
  },
  {
   "cell_type": "code",
   "execution_count": 3,
   "metadata": {
    "collapsed": true
   },
   "outputs": [],
   "source": [
    "## Functions"
   ]
  },
  {
   "cell_type": "code",
   "execution_count": 190,
   "metadata": {
    "collapsed": false
   },
   "outputs": [],
   "source": [
    "def load_file(filename, names):\n",
    "    print(filename)\n",
    "    print(names)\n",
    "    data = read_csv(filename, names=names) \n",
    "    return data\n",
    "\n",
    "def train_test_split(data):\n",
    "    train = data.sample(frac=0.666, random_state=np.random.RandomState())\n",
    "    test = data.drop(train.index)\n",
    "    \n",
    "    split_val = len(train.loc[train['type'] == 'LongEaredOwl'])/len(train) #Dehardcode type values\n",
    "    is_even_split_train =  (split_val < 0.55) & (split_val > 0.45)\n",
    "                 \n",
    "    print(str(is_even_split_train))\n",
    "    print(len(train.loc[train['type'] == 'LongEaredOwl'])/len(train))\n",
    "     \n",
    "    if not is_even_split_train:\n",
    "        return train_test_split(data)\n",
    "    else:\n",
    "        return train, test\n",
    "    "
   ]
  },
  {
   "cell_type": "code",
   "execution_count": 186,
   "metadata": {
    "collapsed": true
   },
   "outputs": [],
   "source": [
    "# Perceptron"
   ]
  },
  {
   "cell_type": "code",
   "execution_count": 187,
   "metadata": {
    "collapsed": false
   },
   "outputs": [],
   "source": [
    "def fit(data):\n",
    "    print('')\n",
    "\n",
    "    \n",
    "def predict():\n",
    "    print()\n",
    "    "
   ]
  },
  {
   "cell_type": "code",
   "execution_count": 188,
   "metadata": {
    "collapsed": true
   },
   "outputs": [],
   "source": [
    "## Main"
   ]
  },
  {
   "cell_type": "code",
   "execution_count": 189,
   "metadata": {
    "collapsed": false
   },
   "outputs": [
    {
     "name": "stdout",
     "output_type": "stream",
     "text": [
      "C:/Users/AMCBR/MyStuff/College Notes & Work/Year 4/Machine Learning & Data Mining/Assignment 3/owls15.csv\n",
      "['body-length', 'wing-length', 'body-width', 'wing-width', 'type']\n",
      "False\n",
      "0.45\n",
      "True\n",
      "0.4666666666666667\n"
     ]
    }
   ],
   "source": [
    "root = Tk()\n",
    "root.withdraw()\n",
    "\n",
    "filename = filedialog.askopenfilename(filetypes=((\"CSV\", \"*.csv\")\n",
    "                                                     , (\"All files\", \"*.*\")))\n",
    "names=[\"body-length\", \"wing-length\", \"body-width\", \"wing-width\", \"type\"]\n",
    "data = load_file(filename, names)\n",
    "\n",
    "\n",
    "############Test Binary Data#################\n",
    "\n",
    "binarydata = data[:90]\n",
    "#print(binarydata)\n",
    "\n",
    "train, test = train_test_split(binarydata)\n",
    "#print(train[:15])\n",
    "#print(test[:15])\n",
    "\n",
    "##############################################\n",
    "\n",
    "\n",
    "\n"
   ]
  },
  {
   "cell_type": "code",
   "execution_count": null,
   "metadata": {
    "collapsed": true
   },
   "outputs": [],
   "source": []
  },
  {
   "cell_type": "code",
   "execution_count": null,
   "metadata": {
    "collapsed": true
   },
   "outputs": [],
   "source": []
  },
  {
   "cell_type": "code",
   "execution_count": null,
   "metadata": {
    "collapsed": true
   },
   "outputs": [],
   "source": []
  }
 ],
 "metadata": {
  "anaconda-cloud": {},
  "kernelspec": {
   "display_name": "Python [conda root]",
   "language": "python",
   "name": "conda-root-py"
  },
  "language_info": {
   "codemirror_mode": {
    "name": "ipython",
    "version": 3
   },
   "file_extension": ".py",
   "mimetype": "text/x-python",
   "name": "python",
   "nbconvert_exporter": "python",
   "pygments_lexer": "ipython3",
   "version": "3.5.2"
  }
 },
 "nbformat": 4,
 "nbformat_minor": 1
}
