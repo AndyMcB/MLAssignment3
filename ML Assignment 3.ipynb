{
 "cells": [
  {
   "cell_type": "code",
   "execution_count": 1,
   "metadata": {
    "collapsed": true
   },
   "outputs": [],
   "source": [
    "## Declarations"
   ]
  },
  {
   "cell_type": "code",
   "execution_count": 6,
   "metadata": {
    "collapsed": true
   },
   "outputs": [],
   "source": [
    "from tkinter import *\n",
    "from tkinter import filedialog\n",
    "import pandas as pd\n",
    "import numpy as np\n",
    "from pandas import read_csv"
   ]
  },
  {
   "cell_type": "code",
   "execution_count": 7,
   "metadata": {
    "collapsed": true
   },
   "outputs": [],
   "source": [
    "## Functions"
   ]
  },
  {
   "cell_type": "code",
   "execution_count": 123,
   "metadata": {
    "collapsed": false
   },
   "outputs": [],
   "source": [
    "def load_file(filename, names):\n",
    "    print(filename)\n",
    "    print(names)\n",
    "    data = read_csv(filename, names=names) \n",
    "    return data\n",
    "\n",
    "def train_test_split(data, train_frac=0.666):\n",
    "    \n",
    "    num_labels = len(data.type.unique())\n",
    "    split_threshold = 1/num_labels\n",
    "    \n",
    "    train = data.sample(frac=train_frac, random_state=np.random.RandomState())\n",
    "    test = data.drop(train.index)\n",
    "\n",
    "    split_val = len(train.loc[train['type'] == 'LongEaredOwl'])/len(train) #De-hardcode type values\n",
    "    is_even_split_train =  (split_val < (split_threshold + 0.1)) & (split_val > (split_threshold - 0.1)) # Ensure a fair split of all types of owl\n",
    "  \n",
    "    print('split val: {}'.format(split_val))\n",
    "    print('split threshold: {}'.format(split_threshold))\n",
    "    \n",
    "    print(len(train))\n",
    "    print(train)\n",
    "    print(len(test))\n",
    "    print(test)\n",
    "    \n",
    "    if not is_even_split_train:\n",
    "        return train_test_split(data, train_frac)\n",
    "    else:\n",
    "        return train, test\n",
    "    \n",
    "    #split_val: decimal representation of how much one type makes up of the while data set\n",
    "    #split_threshold: how much each of the labels should represent in the data set"
   ]
  },
  {
   "cell_type": "code",
   "execution_count": 124,
   "metadata": {
    "collapsed": true
   },
   "outputs": [],
   "source": [
    "# Perceptron"
   ]
  },
  {
   "cell_type": "code",
   "execution_count": 125,
   "metadata": {
    "collapsed": false
   },
   "outputs": [],
   "source": [
    "def fit(data):\n",
    "    print('')\n",
    "\n",
    "    \n",
    "def predict():\n",
    "    print()\n",
    "    "
   ]
  },
  {
   "cell_type": "code",
   "execution_count": 126,
   "metadata": {
    "collapsed": true
   },
   "outputs": [],
   "source": [
    "## Main"
   ]
  },
  {
   "cell_type": "code",
   "execution_count": 127,
   "metadata": {
    "collapsed": false,
    "scrolled": true
   },
   "outputs": [
    {
     "name": "stdout",
     "output_type": "stream",
     "text": [
      "C:/Users/AMCBR/MyStuff/College Notes & Work/Year 4/Machine Learning & Data Mining/Assignment 3/owls15.csv\n",
      "['body-length', 'wing-length', 'body-width', 'wing-width', 'type']\n",
      "split val: 0.32222222222222224\n",
      "split threshold: 0.3333333333333333\n",
      "90\n",
      "     body-length  wing-length  body-width  wing-width          type\n",
      "34           4.0          5.8         1.2         0.2  LongEaredOwl\n",
      "88           3.0          6.5         5.8         2.2      SnowyOwl\n",
      "44           2.3          4.5         1.3         0.3  LongEaredOwl\n",
      "5            3.0          4.9         1.4         0.2  LongEaredOwl\n",
      "0            3.0          5.0         1.6         0.2  LongEaredOwl\n",
      "92           3.0          6.1         4.6         1.4       BarnOwl\n",
      "78           2.5          5.7         5.0         2.0      SnowyOwl\n",
      "15           3.5          5.1         1.4         0.2  LongEaredOwl\n",
      "89           2.7          6.4         5.3         1.9      SnowyOwl\n",
      "93           2.3          5.5         4.0         1.3       BarnOwl\n",
      "68           3.0          7.2         5.8         1.6      SnowyOwl\n",
      "75           2.8          6.3         5.1         1.5      SnowyOwl\n",
      "95           3.0          5.6         4.5         1.5       BarnOwl\n",
      "49           3.0          6.1         4.9         1.8      SnowyOwl\n",
      "59           3.1          6.9         5.1         2.3      SnowyOwl\n",
      "84           2.8          7.7         6.7         2.0      SnowyOwl\n",
      "82           3.0          7.7         6.1         2.3      SnowyOwl\n",
      "21           3.0          4.8         1.4         0.1  LongEaredOwl\n",
      "71           2.9          6.3         5.6         1.8      SnowyOwl\n",
      "63           3.0          7.6         6.6         2.1      SnowyOwl\n",
      "14           3.4          5.0         1.5         0.2  LongEaredOwl\n",
      "115          2.7          5.8         3.9         1.2       BarnOwl\n",
      "111          2.5          5.1         3.0         1.1       BarnOwl\n",
      "62           3.2          6.9         5.7         2.3      SnowyOwl\n",
      "116          2.6          5.5         4.4         1.2       BarnOwl\n",
      "32           3.1          4.6         1.5         0.2  LongEaredOwl\n",
      "105          2.9          6.4         4.3         1.3       BarnOwl\n",
      "67           3.0          7.1         5.9         2.1      SnowyOwl\n",
      "2            3.4          4.6         1.4         0.3  LongEaredOwl\n",
      "60           3.0          6.8         5.5         2.1      SnowyOwl\n",
      "..           ...          ...         ...         ...           ...\n",
      "56           3.8          7.7         6.7         2.2      SnowyOwl\n",
      "112          3.4          6.0         4.5         1.6       BarnOwl\n",
      "114          2.9          5.7         4.2         1.3       BarnOwl\n",
      "90           2.7          5.6         4.2         1.3       BarnOwl\n",
      "94           2.8          5.7         4.1         1.3       BarnOwl\n",
      "12           3.0          4.3         1.1         0.1  LongEaredOwl\n",
      "103          3.0          6.7         5.0         1.7       BarnOwl\n",
      "54           3.0          5.9         5.1         1.8      SnowyOwl\n",
      "8            3.7          5.1         1.5         0.4  LongEaredOwl\n",
      "122          3.0          6.6         4.4         1.4       BarnOwl\n",
      "107          2.7          5.8         4.1         1.0       BarnOwl\n",
      "87           3.0          6.7         5.2         2.3      SnowyOwl\n",
      "64           2.8          6.4         5.6         2.2      SnowyOwl\n",
      "134          3.2          5.9         4.8         1.8       BarnOwl\n",
      "79           3.4          6.3         5.6         2.4      SnowyOwl\n",
      "18           3.0          4.8         1.4         0.3  LongEaredOwl\n",
      "99           2.9          6.2         4.3         1.3       BarnOwl\n",
      "74           2.5          6.7         5.8         1.8      SnowyOwl\n",
      "66           2.9          7.3         6.3         1.8      SnowyOwl\n",
      "85           3.6          7.2         6.1         2.5      SnowyOwl\n",
      "113          2.3          5.0         3.3         1.0       BarnOwl\n",
      "3            3.6          5.0         1.4         0.2  LongEaredOwl\n",
      "129          2.2          6.0         4.0         1.0       BarnOwl\n",
      "72           2.7          5.8         5.1         1.9      SnowyOwl\n",
      "4            4.1          5.2         1.5         0.1  LongEaredOwl\n",
      "70           2.8          5.6         4.9         2.0      SnowyOwl\n",
      "69           3.0          6.0         4.8         1.8      SnowyOwl\n",
      "38           3.4          5.4         1.7         0.2  LongEaredOwl\n",
      "11           3.9          5.4         1.7         0.4  LongEaredOwl\n",
      "127          2.9          6.1         4.7         1.4       BarnOwl\n",
      "\n",
      "[90 rows x 5 columns]\n",
      "45\n",
      "     body-length  wing-length  body-width  wing-width          type\n",
      "1            3.2          4.7         1.6         0.2  LongEaredOwl\n",
      "6            3.3          5.1         1.7         0.5  LongEaredOwl\n",
      "7            3.4          4.8         1.6         0.2  LongEaredOwl\n",
      "10           3.6          4.6         1.0         0.2  LongEaredOwl\n",
      "22           3.3          5.0         1.4         0.2  LongEaredOwl\n",
      "25           3.4          4.8         1.9         0.2  LongEaredOwl\n",
      "26           3.4          5.4         1.5         0.4  LongEaredOwl\n",
      "28           3.0          4.4         1.3         0.2  LongEaredOwl\n",
      "29           3.5          5.0         1.3         0.3  LongEaredOwl\n",
      "31           3.9          5.4         1.3         0.4  LongEaredOwl\n",
      "36           3.4          5.0         1.6         0.4  LongEaredOwl\n",
      "37           3.2          4.4         1.3         0.2  LongEaredOwl\n",
      "39           3.2          4.6         1.4         0.2  LongEaredOwl\n",
      "40           3.5          5.5         1.3         0.2  LongEaredOwl\n",
      "41           3.1          4.8         1.6         0.2  LongEaredOwl\n",
      "43           3.4          5.2         1.4         0.2  LongEaredOwl\n",
      "46           3.2          6.4         5.3         2.3      SnowyOwl\n",
      "47           2.8          6.2         4.8         1.8      SnowyOwl\n",
      "48           2.5          6.3         5.0         1.9      SnowyOwl\n",
      "50           3.3          6.3         6.0         2.5      SnowyOwl\n",
      "51           2.6          7.7         6.9         2.3      SnowyOwl\n",
      "53           2.5          4.9         4.5         1.7      SnowyOwl\n",
      "61           3.3          6.7         5.7         2.5      SnowyOwl\n",
      "76           3.3          6.7         5.7         2.1      SnowyOwl\n",
      "80           3.1          6.9         5.4         2.1      SnowyOwl\n",
      "83           2.8          7.4         6.1         1.9      SnowyOwl\n",
      "86           2.6          6.1         5.6         1.4      SnowyOwl\n",
      "91           3.0          5.9         4.2         1.5       BarnOwl\n",
      "96           2.8          6.8         4.8         1.4       BarnOwl\n",
      "100          3.1          6.9         4.9         1.5       BarnOwl\n",
      "101          2.4          5.5         3.8         1.1       BarnOwl\n",
      "102          2.8          6.1         4.7         1.2       BarnOwl\n",
      "106          2.7          6.0         5.1         1.6       BarnOwl\n",
      "108          2.6          5.8         4.0         1.2       BarnOwl\n",
      "109          3.0          5.7         4.2         1.2       BarnOwl\n",
      "118          2.5          5.6         3.9         1.1       BarnOwl\n",
      "119          3.0          5.4         4.5         1.5       BarnOwl\n",
      "120          2.3          6.3         4.4         1.3       BarnOwl\n",
      "123          2.9          6.0         4.5         1.5       BarnOwl\n",
      "124          2.7          5.2         3.9         1.4       BarnOwl\n",
      "125          2.5          6.3         4.9         1.5       BarnOwl\n",
      "126          3.2          6.4         4.5         1.5       BarnOwl\n",
      "130          3.3          6.3         4.7         1.6       BarnOwl\n",
      "132          2.9          6.6         4.6         1.3       BarnOwl\n",
      "133          3.0          5.6         4.1         1.3       BarnOwl\n"
     ]
    }
   ],
   "source": [
    "root = Tk()\n",
    "root.withdraw()\n",
    "\n",
    "filename = filedialog.askopenfilename(filetypes=((\"CSV\", \"*.csv\")\n",
    "                                                     , (\"All files\", \"*.*\")))\n",
    "names=[\"body-length\", \"wing-length\", \"body-width\", \"wing-width\", \"type\"]\n",
    "data = load_file(filename, names)\n",
    "\n",
    "\n",
    "############Test Binary Data#################\n",
    "\n",
    "binarydata = data[:90]\n",
    "#print(binarydata)\n",
    "\n",
    "train, test = train_test_split(data, 0.666)\n",
    "#print(train[:15])\n",
    "#print(test[:15])\n",
    "\n",
    "##############################################\n",
    "\n",
    "\n",
    "\n"
   ]
  },
  {
   "cell_type": "code",
   "execution_count": null,
   "metadata": {
    "collapsed": true
   },
   "outputs": [],
   "source": []
  },
  {
   "cell_type": "code",
   "execution_count": null,
   "metadata": {
    "collapsed": true
   },
   "outputs": [],
   "source": []
  },
  {
   "cell_type": "code",
   "execution_count": null,
   "metadata": {
    "collapsed": true
   },
   "outputs": [],
   "source": []
  }
 ],
 "metadata": {
  "anaconda-cloud": {},
  "kernelspec": {
   "display_name": "Python [conda root]",
   "language": "python",
   "name": "conda-root-py"
  },
  "language_info": {
   "codemirror_mode": {
    "name": "ipython",
    "version": 3
   },
   "file_extension": ".py",
   "mimetype": "text/x-python",
   "name": "python",
   "nbconvert_exporter": "python",
   "pygments_lexer": "ipython3",
   "version": "3.5.2"
  }
 },
 "nbformat": 4,
 "nbformat_minor": 1
}
