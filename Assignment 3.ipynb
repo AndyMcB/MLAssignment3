{
 "cells": [
  {
   "cell_type": "code",
   "execution_count": 92,
   "metadata": {
    "collapsed": true
   },
   "outputs": [],
   "source": [
    "## Imports & Declarations"
   ]
  },
  {
   "cell_type": "code",
   "execution_count": 93,
   "metadata": {
    "collapsed": false
   },
   "outputs": [],
   "source": [
    "from tkinter import *\n",
    "from tkinter import filedialog\n",
    "import numpy as np\n",
    "from numpy import genfromtxt\n",
    "DATA = np.ndarray\n",
    "LABELS = np.ndarray\n"
   ]
  },
  {
   "cell_type": "code",
   "execution_count": 94,
   "metadata": {
    "collapsed": true
   },
   "outputs": [],
   "source": [
    "##Functions"
   ]
  },
  {
   "cell_type": "code",
   "execution_count": 95,
   "metadata": {
    "collapsed": false
   },
   "outputs": [],
   "source": [
    "def stopProg(e):\n",
    "    root.destroy()\n",
    "\n",
    "def transfertext(e):\n",
    "    label1.configure(text=\"Hello World\")\n",
    "\n",
    "def load_file(self):\n",
    "    global DATA\n",
    "    filename = filedialog.askopenfilename(filetypes=((\"CSV\", \"*.csv\")\n",
    "                                                     , (\"All files\", \"*.*\")))\n",
    "    DATA = genfromtxt(filename, delimiter=\",\", dtype=np.str)\n",
    "    \n",
    "def clean_data(e):\n",
    "    global DATA\n",
    "    global LABELS\n",
    "    LABELS = DATA[:,4]\n",
    "    DATA = np.delete(DATA, 4, 1).astype(np.float64)\n",
    "    print(LABELS)\n",
    "    print(DATA)"
   ]
  },
  {
   "cell_type": "code",
   "execution_count": 96,
   "metadata": {
    "collapsed": true
   },
   "outputs": [],
   "source": [
    "##GUI Code"
   ]
  },
  {
   "cell_type": "code",
   "execution_count": 97,
   "metadata": {
    "collapsed": false
   },
   "outputs": [
    {
     "name": "stdout",
     "output_type": "stream",
     "text": [
      "['LongEaredOwl' 'LongEaredOwl' 'LongEaredOwl' 'LongEaredOwl' 'LongEaredOwl'\n",
      " 'LongEaredOwl' 'LongEaredOwl' 'LongEaredOwl' 'LongEaredOwl' 'LongEaredOwl'\n",
      " 'LongEaredOwl' 'LongEaredOwl' 'LongEaredOwl' 'LongEaredOwl' 'LongEaredOwl'\n",
      " 'LongEaredOwl' 'LongEaredOwl' 'LongEaredOwl' 'LongEaredOwl' 'LongEaredOwl'\n",
      " 'LongEaredOwl' 'LongEaredOwl' 'LongEaredOwl' 'LongEaredOwl' 'LongEaredOwl'\n",
      " 'LongEaredOwl' 'LongEaredOwl' 'LongEaredOwl' 'LongEaredOwl' 'LongEaredOwl'\n",
      " 'LongEaredOwl' 'LongEaredOwl' 'LongEaredOwl' 'LongEaredOwl' 'LongEaredOwl'\n",
      " 'LongEaredOwl' 'LongEaredOwl' 'LongEaredOwl' 'LongEaredOwl' 'LongEaredOwl'\n",
      " 'LongEaredOwl' 'LongEaredOwl' 'LongEaredOwl' 'LongEaredOwl' 'LongEaredOwl'\n",
      " 'SnowyOwl' 'SnowyOwl' 'SnowyOwl' 'SnowyOwl' 'SnowyOwl' 'SnowyOwl'\n",
      " 'SnowyOwl' 'SnowyOwl' 'SnowyOwl' 'SnowyOwl' 'SnowyOwl' 'SnowyOwl'\n",
      " 'SnowyOwl' 'SnowyOwl' 'SnowyOwl' 'SnowyOwl' 'SnowyOwl' 'SnowyOwl'\n",
      " 'SnowyOwl' 'SnowyOwl' 'SnowyOwl' 'SnowyOwl' 'SnowyOwl' 'SnowyOwl'\n",
      " 'SnowyOwl' 'SnowyOwl' 'SnowyOwl' 'SnowyOwl' 'SnowyOwl' 'SnowyOwl'\n",
      " 'SnowyOwl' 'SnowyOwl' 'SnowyOwl' 'SnowyOwl' 'SnowyOwl' 'SnowyOwl'\n",
      " 'SnowyOwl' 'SnowyOwl' 'SnowyOwl' 'SnowyOwl' 'SnowyOwl' 'SnowyOwl'\n",
      " 'SnowyOwl' 'SnowyOwl' 'SnowyOwl' 'BarnOwl' 'BarnOwl' 'BarnOwl' 'BarnOwl'\n",
      " 'BarnOwl' 'BarnOwl' 'BarnOwl' 'BarnOwl' 'BarnOwl' 'BarnOwl' 'BarnOwl'\n",
      " 'BarnOwl' 'BarnOwl' 'BarnOwl' 'BarnOwl' 'BarnOwl' 'BarnOwl' 'BarnOwl'\n",
      " 'BarnOwl' 'BarnOwl' 'BarnOwl' 'BarnOwl' 'BarnOwl' 'BarnOwl' 'BarnOwl'\n",
      " 'BarnOwl' 'BarnOwl' 'BarnOwl' 'BarnOwl' 'BarnOwl' 'BarnOwl' 'BarnOwl'\n",
      " 'BarnOwl' 'BarnOwl' 'BarnOwl' 'BarnOwl' 'BarnOwl' 'BarnOwl' 'BarnOwl'\n",
      " 'BarnOwl' 'BarnOwl' 'BarnOwl' 'BarnOwl' 'BarnOwl' 'BarnOwl']\n",
      "[[ 3.   5.   1.6  0.2]\n",
      " [ 3.2  4.7  1.6  0.2]\n",
      " [ 3.4  4.6  1.4  0.3]\n",
      " [ 3.6  5.   1.4  0.2]\n",
      " [ 4.1  5.2  1.5  0.1]\n",
      " [ 3.   4.9  1.4  0.2]\n",
      " [ 3.3  5.1  1.7  0.5]\n",
      " [ 3.4  4.8  1.6  0.2]\n",
      " [ 3.7  5.1  1.5  0.4]\n",
      " [ 3.1  4.9  1.5  0.1]\n",
      " [ 3.6  4.6  1.   0.2]\n",
      " [ 3.9  5.4  1.7  0.4]\n",
      " [ 3.   4.3  1.1  0.1]\n",
      " [ 2.9  4.4  1.4  0.2]\n",
      " [ 3.4  5.   1.5  0.2]\n",
      " [ 3.5  5.1  1.4  0.2]\n",
      " [ 3.2  5.   1.2  0.2]\n",
      " [ 3.8  5.1  1.9  0.4]\n",
      " [ 3.   4.8  1.4  0.3]\n",
      " [ 4.2  5.5  1.4  0.2]\n",
      " [ 3.7  5.4  1.5  0.2]\n",
      " [ 3.   4.8  1.4  0.1]\n",
      " [ 3.3  5.   1.4  0.2]\n",
      " [ 3.2  4.7  1.3  0.2]\n",
      " [ 3.5  5.1  1.4  0.3]\n",
      " [ 3.4  4.8  1.9  0.2]\n",
      " [ 3.4  5.4  1.5  0.4]\n",
      " [ 3.8  5.1  1.5  0.3]\n",
      " [ 3.   4.4  1.3  0.2]\n",
      " [ 3.5  5.   1.3  0.3]\n",
      " [ 3.5  5.   1.6  0.6]\n",
      " [ 3.9  5.4  1.3  0.4]\n",
      " [ 3.1  4.6  1.5  0.2]\n",
      " [ 3.8  5.7  1.7  0.3]\n",
      " [ 4.   5.8  1.2  0.2]\n",
      " [ 3.7  5.3  1.5  0.2]\n",
      " [ 3.4  5.   1.6  0.4]\n",
      " [ 3.2  4.4  1.3  0.2]\n",
      " [ 3.4  5.4  1.7  0.2]\n",
      " [ 3.2  4.6  1.4  0.2]\n",
      " [ 3.5  5.5  1.3  0.2]\n",
      " [ 3.1  4.8  1.6  0.2]\n",
      " [ 3.1  4.9  1.5  0.1]\n",
      " [ 3.4  5.2  1.4  0.2]\n",
      " [ 2.3  4.5  1.3  0.3]\n",
      " [ 2.8  6.4  5.6  2.1]\n",
      " [ 3.2  6.4  5.3  2.3]\n",
      " [ 2.8  6.2  4.8  1.8]\n",
      " [ 2.5  6.3  5.   1.9]\n",
      " [ 3.   6.1  4.9  1.8]\n",
      " [ 3.3  6.3  6.   2.5]\n",
      " [ 2.6  7.7  6.9  2.3]\n",
      " [ 2.7  6.3  4.9  1.8]\n",
      " [ 2.5  4.9  4.5  1.7]\n",
      " [ 3.   5.9  5.1  1.8]\n",
      " [ 3.1  6.4  5.5  1.8]\n",
      " [ 3.8  7.7  6.7  2.2]\n",
      " [ 3.4  6.2  5.4  2.3]\n",
      " [ 3.2  6.8  5.9  2.3]\n",
      " [ 3.1  6.9  5.1  2.3]\n",
      " [ 3.   6.8  5.5  2.1]\n",
      " [ 3.3  6.7  5.7  2.5]\n",
      " [ 3.2  6.9  5.7  2.3]\n",
      " [ 3.   7.6  6.6  2.1]\n",
      " [ 2.8  6.4  5.6  2.2]\n",
      " [ 2.2  6.   5.   1.5]\n",
      " [ 2.9  7.3  6.3  1.8]\n",
      " [ 3.   7.1  5.9  2.1]\n",
      " [ 3.   7.2  5.8  1.6]\n",
      " [ 3.   6.   4.8  1.8]\n",
      " [ 2.8  5.6  4.9  2. ]\n",
      " [ 2.9  6.3  5.6  1.8]\n",
      " [ 2.7  5.8  5.1  1.9]\n",
      " [ 2.7  5.8  5.1  1.9]\n",
      " [ 2.5  6.7  5.8  1.8]\n",
      " [ 2.8  6.3  5.1  1.5]\n",
      " [ 3.3  6.7  5.7  2.1]\n",
      " [ 3.2  7.2  6.   1.8]\n",
      " [ 2.5  5.7  5.   2. ]\n",
      " [ 3.4  6.3  5.6  2.4]\n",
      " [ 3.1  6.9  5.4  2.1]\n",
      " [ 3.   6.5  5.2  2. ]\n",
      " [ 3.   7.7  6.1  2.3]\n",
      " [ 2.8  7.4  6.1  1.9]\n",
      " [ 2.8  7.7  6.7  2. ]\n",
      " [ 3.6  7.2  6.1  2.5]\n",
      " [ 2.6  6.1  5.6  1.4]\n",
      " [ 3.   6.7  5.2  2.3]\n",
      " [ 3.   6.5  5.8  2.2]\n",
      " [ 2.7  6.4  5.3  1.9]\n",
      " [ 2.7  5.6  4.2  1.3]\n",
      " [ 3.   5.9  4.2  1.5]\n",
      " [ 3.   6.1  4.6  1.4]\n",
      " [ 2.3  5.5  4.   1.3]\n",
      " [ 2.8  5.7  4.1  1.3]\n",
      " [ 3.   5.6  4.5  1.5]\n",
      " [ 2.8  6.8  4.8  1.4]\n",
      " [ 3.1  6.7  4.4  1.4]\n",
      " [ 2.5  5.5  4.   1.3]\n",
      " [ 2.9  6.2  4.3  1.3]\n",
      " [ 3.1  6.9  4.9  1.5]\n",
      " [ 2.4  5.5  3.8  1.1]\n",
      " [ 2.8  6.1  4.7  1.2]\n",
      " [ 3.   6.7  5.   1.7]\n",
      " [ 2.8  6.1  4.   1.3]\n",
      " [ 2.9  6.4  4.3  1.3]\n",
      " [ 2.7  6.   5.1  1.6]\n",
      " [ 2.7  5.8  4.1  1. ]\n",
      " [ 2.6  5.8  4.   1.2]\n",
      " [ 3.   5.7  4.2  1.2]\n",
      " [ 2.4  5.5  3.7  1. ]\n",
      " [ 2.5  5.1  3.   1.1]\n",
      " [ 3.4  6.   4.5  1.6]\n",
      " [ 2.3  5.   3.3  1. ]\n",
      " [ 2.9  5.7  4.2  1.3]\n",
      " [ 2.7  5.8  3.9  1.2]\n",
      " [ 2.6  5.5  4.4  1.2]\n",
      " [ 2.   5.   3.5  1. ]\n",
      " [ 2.5  5.6  3.9  1.1]\n",
      " [ 3.   5.4  4.5  1.5]\n",
      " [ 2.3  6.3  4.4  1.3]\n",
      " [ 2.8  6.5  4.6  1.5]\n",
      " [ 3.   6.6  4.4  1.4]\n",
      " [ 2.9  6.   4.5  1.5]\n",
      " [ 2.7  5.2  3.9  1.4]\n",
      " [ 2.5  6.3  4.9  1.5]\n",
      " [ 3.2  6.4  4.5  1.5]\n",
      " [ 2.9  6.1  4.7  1.4]\n",
      " [ 2.9  5.6  3.6  1.3]\n",
      " [ 2.2  6.   4.   1. ]\n",
      " [ 3.3  6.3  4.7  1.6]\n",
      " [ 3.1  6.7  4.7  1.5]\n",
      " [ 2.9  6.6  4.6  1.3]\n",
      " [ 3.   5.6  4.1  1.3]\n",
      " [ 3.2  5.9  4.8  1.8]]\n"
     ]
    }
   ],
   "source": [
    "root=Tk()\n",
    "\n",
    "browseButton = Button(root, text=\"Browse\")\n",
    "browseButton.pack()\n",
    "browseButton.bind('<Button-1>', load_file)\n",
    "\n",
    "cleanButton = Button(root, text=\"Display Cleaned Data\")\n",
    "cleanButton.pack()\n",
    "cleanButton.bind('<Button-1>', clean_data)\n",
    "\n",
    "label1=Label(root,text=\"nothing to say\")\n",
    "label1.pack()\n",
    "\n",
    "root.mainloop()"
   ]
  },
  {
   "cell_type": "code",
   "execution_count": 91,
   "metadata": {
    "collapsed": true
   },
   "outputs": [],
   "source": [
    "## Features to add: Choose delimiter, specify if there are headers or not"
   ]
  },
  {
   "cell_type": "code",
   "execution_count": null,
   "metadata": {
    "collapsed": true
   },
   "outputs": [],
   "source": []
  },
  {
   "cell_type": "code",
   "execution_count": null,
   "metadata": {
    "collapsed": true
   },
   "outputs": [],
   "source": []
  },
  {
   "cell_type": "code",
   "execution_count": null,
   "metadata": {
    "collapsed": true
   },
   "outputs": [],
   "source": []
  },
  {
   "cell_type": "code",
   "execution_count": null,
   "metadata": {
    "collapsed": true
   },
   "outputs": [],
   "source": []
  },
  {
   "cell_type": "code",
   "execution_count": null,
   "metadata": {
    "collapsed": true
   },
   "outputs": [],
   "source": []
  },
  {
   "cell_type": "code",
   "execution_count": null,
   "metadata": {
    "collapsed": true
   },
   "outputs": [],
   "source": []
  }
 ],
 "metadata": {
  "anaconda-cloud": {},
  "kernelspec": {
   "display_name": "Python [conda root]",
   "language": "python",
   "name": "conda-root-py"
  },
  "language_info": {
   "codemirror_mode": {
    "name": "ipython",
    "version": 3
   },
   "file_extension": ".py",
   "mimetype": "text/x-python",
   "name": "python",
   "nbconvert_exporter": "python",
   "pygments_lexer": "ipython3",
   "version": "3.5.2"
  }
 },
 "nbformat": 4,
 "nbformat_minor": 1
}
